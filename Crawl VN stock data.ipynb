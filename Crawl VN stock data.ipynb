{
 "cells": [
  {
   "cell_type": "markdown",
   "id": "1f5dd556",
   "metadata": {},
   "source": [
    "### Crawl Vietnam Stock Data"
   ]
  },
  {
   "cell_type": "markdown",
   "id": "71445328",
   "metadata": {},
   "source": [
    "This project is to crawl Vietnam stock data (around 1600 companies) everyday for further analyst and investment\n",
    "\n",
    "In this project, I will use some libraries: Selenium (interact with website to download data), Pandas,Openpyxl (clean & consolidate data) & Pyodbc (update data to SQL database for further analyst)"
   ]
  },
  {
   "cell_type": "code",
   "execution_count": 1,
   "id": "2aeee987",
   "metadata": {},
   "outputs": [],
   "source": [
    "from selenium import webdriver\n",
    "from selenium.webdriver.common.keys import Keys\n",
    "from selenium.webdriver.common.action_chains import ActionChains\n",
    "import os\n",
    "import pandas as pd\n",
    "import openpyxl\n",
    "import pyodbc\n",
    "from time import sleep\n",
    "from datetime import datetime\n",
    "import warnings\n",
    "warnings.filterwarnings(\"ignore\", category=DeprecationWarning) "
   ]
  },
  {
   "cell_type": "code",
   "execution_count": 6,
   "id": "0c584e7f",
   "metadata": {},
   "outputs": [],
   "source": [
    "#open website\n",
    "driver = webdriver.Chrome(executable_path=r\"F:\\Data\\Funix\\Chromedriver.exe\")\n",
    "url = 'https://finance.vietstock.vn/ket-qua-giao-dich?tab=thong-ke-gia&exchange=3'\n",
    "driver.get(url)"
   ]
  },
  {
   "cell_type": "code",
   "execution_count": 7,
   "id": "5e6974f1",
   "metadata": {},
   "outputs": [],
   "source": [
    "#login account\n",
    "with open('F:/Data/Funix/Passcode.txt') as f:\n",
    "    lines = []\n",
    "    for line in f:\n",
    "        lines.append(line.rstrip())\n",
    "username = lines[0]\n",
    "password = lines[1]\n",
    "\n",
    "Dang_nhap = driver.find_element(by='xpath', value='/html/body/div[2]/div[6]/div/div[2]/div[2]/a[3]').click()\n",
    "Ten_email = driver.find_element(by='id', value='txtEmailLogin')\n",
    "Ten_email.clear()\n",
    "Ten_email.send_keys(username)\n",
    "Ten_matkhau = driver.find_element(by='id', value='txtPassword')\n",
    "Ten_matkhau.clear()\n",
    "Ten_matkhau.send_keys(password)\n",
    "driver.find_element(by='id', value='btnLoginAccount').submit()\n"
   ]
  },
  {
   "cell_type": "code",
   "execution_count": 8,
   "id": "2ace9570",
   "metadata": {},
   "outputs": [],
   "source": [
    "#Download file\n",
    "From_date = datetime.today().strftime('%d/%m/%Y')\n",
    "#From_date = '22/04/2022'\n",
    "san_list = ['HOSE','HNX','UPCoM']\n",
    "\n",
    "\n",
    "for san in san_list:\n",
    "    san_field = driver.find_element(by='xpath', value='//*[@id=\"trading-result\"]/div/div[1]/div[1]/div/div[1]/div/div[1]/div/select')\n",
    "    san_field.send_keys(san)\n",
    "    Fromdate_field = driver.find_element(by='xpath', value='//*[@id=\"txtFromDate\"]/input')\n",
    "    Fromdate_field.clear()\n",
    "    Fromdate_field.send_keys(From_date)\n",
    "    Todate_field = driver.find_element(by='xpath', value='//*[@id=\"txtToDate\"]/input')\n",
    "    Todate_field.clear()\n",
    "    Todate_field.send_keys(From_date)\n",
    "    driver.find_element(by='xpath', value='//*[@id=\"trading-result\"]/div/div[1]/div[1]/div/div[2]/button').click()\n",
    "    driver.find_element(by='xpath', value='//*[@id=\"trading-result\"]/div/div[1]/div[1]/div/div[2]/a').click()\n",
    "\n",
    "\n"
   ]
  },
  {
   "cell_type": "code",
   "execution_count": 9,
   "id": "73a55c7b",
   "metadata": {},
   "outputs": [],
   "source": [
    "#Consolidate file\n",
    "path = 'C:/Users/vinhbui/Downloads/'\n",
    "list_file = []\n",
    "\n",
    "\n",
    "for file in os.listdir(path):\n",
    "    if file.startswith(\"KQGD\"):\n",
    "        list_file.append(file)\n",
    "\n",
    "dict = {2: 'Ngay',3: 'Ma',4: 'ThamChieu',5: 'MoCua',6: 'DongCua',7: 'CaoNhat',8: 'ThapNhat',9: 'TrungBinh',10: 'ThayDoiGiaTien',11: 'ThayDoiGiaPhanTram',12: 'GdKhopLenh',13: 'GtKhopLenh',14: 'GdThoaThuan',15: 'GtThoaThuan',16: 'TongKlGiaoDich',17: 'TongGtGiaoDich',18: 'VonHoaThiTruong'}\n",
    "ds = list(range(2,19))\n",
    "frames = []\n",
    "\n",
    "for file in list_file:\n",
    "    filepath = path + file\n",
    "    df1 = pd.read_excel(filepath, skiprows = 16, header = None, usecols = ds)\n",
    "    frames.append(df1)\n",
    "    result = pd.concat(frames)\n",
    " \n",
    "\n",
    "path2 = 'C:/Users/vinhbui/Downloads/'\n",
    "df = result\n",
    "df.rename(columns=dict, inplace=True)\n",
    "df.to_excel(path2 + 'DataStockConsolidate.xlsx', index=False)"
   ]
  },
  {
   "cell_type": "code",
   "execution_count": 10,
   "id": "e47261e4",
   "metadata": {},
   "outputs": [],
   "source": [
    "#Import consolidated file to SQL\n",
    "\n",
    "df1 = pd.read_excel('C:/Users/vinhbui/Downloads/DataStockConsolidate.xlsx')\n",
    "server = 'PC-VINHBUI' \n",
    "db1 = 'StockProject' \n",
    "tcon = 'yes'\n",
    "cnxn = pyodbc.connect(driver='{SQL Server Native Client 11.0}', host=server, database=db1,trusted_connection=tcon)\n",
    "cursor = cnxn.cursor()\n",
    "\n",
    "# Insert Dataframe into SQL Server:\n",
    "for index, row in df1.iterrows():\n",
    "     cursor.execute(\"INSERT INTO Stockdata values(?,?,?,?,?,?,?,?,?,?,?,?,?,?,?,?,?)\",  row.Ngay, row.Ma, row.ThamChieu, row.MoCua, row.DongCua, row.CaoNhat, row.ThapNhat, row.TrungBinh, row.ThayDoiGiaTien, row.ThayDoiGiaPhanTram, row.GdKhopLenh, row.GtKhopLenh, row.GdThoaThuan, row.GtThoaThuan, row.TongKlGiaoDich, row.TongGtGiaoDich, row.VonHoaThiTruong,)\n",
    "cnxn.commit()\n",
    "cursor.close()"
   ]
  },
  {
   "cell_type": "code",
   "execution_count": 11,
   "id": "0297191c",
   "metadata": {},
   "outputs": [],
   "source": [
    "#Delete file after import\n",
    "path = 'C:/Users/vinhbui/Downloads/'\n",
    "os.listdir(path)\n",
    "\n",
    "list_file_delete = []\n",
    "\n",
    "for file in os.listdir(path):\n",
    "    if file.startswith(\"KQGD\") or file.startswith(\"DataStock\"):\n",
    "        os.remove(path + file)"
   ]
  },
  {
   "cell_type": "code",
   "execution_count": null,
   "id": "b7652897",
   "metadata": {},
   "outputs": [],
   "source": []
  },
  {
   "cell_type": "code",
   "execution_count": null,
   "id": "7e1bc673",
   "metadata": {},
   "outputs": [],
   "source": []
  }
 ],
 "metadata": {
  "kernelspec": {
   "display_name": "Python 3 (ipykernel)",
   "language": "python",
   "name": "python3"
  },
  "language_info": {
   "codemirror_mode": {
    "name": "ipython",
    "version": 3
   },
   "file_extension": ".py",
   "mimetype": "text/x-python",
   "name": "python",
   "nbconvert_exporter": "python",
   "pygments_lexer": "ipython3",
   "version": "3.10.4"
  }
 },
 "nbformat": 4,
 "nbformat_minor": 5
}
